{
  "nbformat": 4,
  "nbformat_minor": 0,
  "metadata": {
    "colab": {
      "name": "LSTM.ipynb",
      "provenance": [],
      "collapsed_sections": [],
      "authorship_tag": "ABX9TyNn31Po2ZFlprDAWsfqv3uM",
      "include_colab_link": true
    },
    "kernelspec": {
      "name": "python3",
      "display_name": "Python 3"
    },
    "language_info": {
      "name": "python"
    }
  },
  "cells": [
    {
      "cell_type": "markdown",
      "metadata": {
        "id": "view-in-github",
        "colab_type": "text"
      },
      "source": [
        "<a href=\"https://colab.research.google.com/github/fookseng/LSTM/blob/main/LSTM.ipynb\" target=\"_parent\"><img src=\"https://colab.research.google.com/assets/colab-badge.svg\" alt=\"Open In Colab\"/></a>"
      ]
    },
    {
      "cell_type": "code",
      "metadata": {
        "id": "v6vJR2ubwSLq"
      },
      "source": [
        "import os\n",
        "import datetime\n",
        "import IPython\n",
        "import IPython.display\n",
        "import matplotlib as mpl\n",
        "import matplotlib.pyplot as plt\n",
        "import numpy as np\n",
        "import pandas as pd\n",
        "import seaborn as sns\n",
        "import tensorflow as tf\n",
        "from google.colab import drive\n",
        "from google.colab.patches import cv2_imshow # for image display\n"
      ],
      "execution_count": 1,
      "outputs": []
    },
    {
      "cell_type": "code",
      "metadata": {
        "colab": {
          "base_uri": "https://localhost:8080/"
        },
        "id": "EaKYT2w7wnNJ",
        "outputId": "f4117dac-c43a-4492-b2be-f6c6ceeb53f8"
      },
      "source": [
        "print(tf.__version__)"
      ],
      "execution_count": 2,
      "outputs": [
        {
          "output_type": "stream",
          "name": "stdout",
          "text": [
            "2.6.0\n"
          ]
        }
      ]
    },
    {
      "cell_type": "code",
      "metadata": {
        "colab": {
          "base_uri": "https://localhost:8080/"
        },
        "id": "xYeAD6fCwvwO",
        "outputId": "09ab8a8a-5a45-4bbb-e7cc-62293d8f766f"
      },
      "source": [
        "drive.mount('/content/gdrive')"
      ],
      "execution_count": 3,
      "outputs": [
        {
          "output_type": "stream",
          "name": "stdout",
          "text": [
            "Drive already mounted at /content/gdrive; to attempt to forcibly remount, call drive.mount(\"/content/gdrive\", force_remount=True).\n"
          ]
        }
      ]
    },
    {
      "cell_type": "code",
      "metadata": {
        "id": "_lcvVK_ixIbW"
      },
      "source": [
        "path = '/content/gdrive/Shareddrives/namr - water quality forecast/1005data_OutletOnly(8x12)/CHL/continuous_for_3'\n",
        "savePath = '/content/gdrive/Shareddrives/namr - water quality forecast/fs/' #result/'\n"
      ],
      "execution_count": 4,
      "outputs": []
    },
    {
      "cell_type": "markdown",
      "metadata": {
        "id": "EW_VPlPx75W9"
      },
      "source": [
        "Part 1: Load data and save as pandas format"
      ]
    },
    {
      "cell_type": "code",
      "metadata": {
        "colab": {
          "base_uri": "https://localhost:8080/"
        },
        "id": "RFEMxL5vy-6I",
        "outputId": "82405bc5-ec45-4469-d2c9-39103a859897"
      },
      "source": [
        "images_T2 = np.load(path +'/image_array_0.npy')\n",
        "images_T1 = np.load(path +'/image_array_1.npy')\n",
        "images_T = np.load(path +'/image_array_2.npy')\n",
        "flow_T2 = np.load(path +'/flow_array_0.npy')\n",
        "flow_T1 = np.load(path +'/flow_array_1.npy')\n",
        "flow_T = np.load(path +'/flow_array_2.npy')\n",
        "tide_T2 = np.load(path +'/delta_tide_array_0.npy')\n",
        "tide_T1 = np.load(path +'/delta_tide_array_1.npy')\n",
        "tide_T = np.load(path +'/delta_tide_array_2.npy')\n",
        "\n",
        "print(images_T2.size, images_T2.shape)\n",
        "print(images_T1.size, images_T1.shape)\n",
        "print(images_T.size, images_T.shape)\n",
        "print(flow_T2.size, flow_T2.shape)\n",
        "print(flow_T1.size, flow_T1.shape)\n",
        "print(flow_T.size, flow_T.shape)\n",
        "print(tide_T2.size, tide_T2.shape)\n",
        "print(tide_T1.size, tide_T1.shape)\n",
        "print(tide_T.size, tide_T.shape)"
      ],
      "execution_count": 5,
      "outputs": [
        {
          "output_type": "stream",
          "name": "stdout",
          "text": [
            "107520 (1120, 12, 8)\n",
            "107520 (1120, 12, 8)\n",
            "107520 (1120, 12, 8)\n",
            "1120 (1120, 1)\n",
            "1120 (1120, 1)\n",
            "1120 (1120, 1)\n",
            "1120 (1120, 1)\n",
            "1120 (1120, 1)\n",
            "1120 (1120, 1)\n"
          ]
        }
      ]
    },
    {
      "cell_type": "code",
      "metadata": {
        "colab": {
          "base_uri": "https://localhost:8080/",
          "height": 442
        },
        "id": "gAU38Sa4znWZ",
        "outputId": "0394aa9f-75ec-4c54-f540-bdd332a6c5b2"
      },
      "source": [
        "cv2_imshow(images_T2[6])\n",
        "print(images_T2[6])"
      ],
      "execution_count": 6,
      "outputs": [
        {
          "output_type": "display_data",
          "data": {
            "image/png": "[encoded data removed]",
            "text/plain": [
              "<PIL.Image.Image image mode=L size=8x12 at 0x7F8310A2CA10>"
            ]
          },
          "metadata": {}
        },
        {
          "output_type": "stream",
          "name": "stdout",
          "text": [
            "[[1.745519   1.8057764  1.7642915  1.6759112  1.4041015  0.4991049\n",
            "  0.39641532 0.37551555]\n",
            " [1.7507998  1.7084353  1.6732614  1.6836575  1.5288602  0.4700635\n",
            "  0.4296165  0.40607464]\n",
            " [1.7767072  1.617772   1.523569   1.5945204  0.6378101  0.42028487\n",
            "  0.43850937 0.40104958]\n",
            " [1.9499776  1.5980276  1.5553278  1.5296769  0.7351361  0.4390112\n",
            "  0.4281676  0.40872622]\n",
            " [2.4692879  1.6215789  1.5400419  1.3872281  0.85543054 0.44990203\n",
            "  0.4173538  0.40021747]\n",
            " [0.         1.8670131  1.5280848  1.3726594  0.8367963  0.60796523\n",
            "  0.5980635  0.5072158 ]\n",
            " [0.         1.8630258  1.6384112  1.3458747  0.99817777 0.61376464\n",
            "  0.49818084 0.5206232 ]\n",
            " [0.         1.9057868  1.8507142  1.5296738  1.3943865  0.9416087\n",
            "  0.8894353  0.90924096]\n",
            " [0.         1.8606178  1.7946365  1.8098979  1.393217   1.1273388\n",
            "  1.0676686  0.95277333]\n",
            " [0.         2.0411196  1.872856   1.7949772  1.3748311  1.1283436\n",
            "  1.0513139  1.0247725 ]\n",
            " [3.8450255  2.143023   1.9224033  1.9541906  1.8717319  1.1876802\n",
            "  1.0381167  1.0508076 ]\n",
            " [2.8697643  2.1501086  1.912826   1.9551235  1.9935716  1.2651706\n",
            "  1.1014862  1.0061237 ]]\n"
          ]
        }
      ]
    },
    {
      "cell_type": "code",
      "metadata": {
        "id": "9QHCz_Rv1oH8"
      },
      "source": [
        "pixel_value_T2 = []\n",
        "pixel_value_T1 = []\n",
        "pixel_value_T = []\n",
        "pattern_data = []\n",
        "flow_data = []\n",
        "tide_data = []\n",
        "def createData(x, y):\n",
        "    print(\"Creating dataset on point:\", x,\",\", y)\n",
        "    for i in range(1120):\n",
        "        pixel_value_T2.append(images_T2[i][x][y])\n",
        "        pixel_value_T1.append(images_T1[i][x][y])\n",
        "        pixel_value_T.append(images_T[i][x][y])\n",
        "        pattern_data.append(images_T2[i][x][y])\n",
        "        pattern_data.append(images_T1[i][x][y])\n",
        "        pattern_data.append(images_T[i][x][y])\n",
        "        flow_data.append(flow_T2[i][0])\n",
        "        flow_data.append(flow_T1[i][0])\n",
        "        flow_data.append(flow_T[i][0])\n",
        "        tide_data.append(tide_T2[i][0])\n",
        "        tide_data.append(tide_T1[i][0])\n",
        "        tide_data.append(tide_T[i][0])\n"
      ],
      "execution_count": 7,
      "outputs": []
    },
    {
      "cell_type": "code",
      "metadata": {
        "colab": {
          "base_uri": "https://localhost:8080/"
        },
        "id": "YpFrSDef19Yi",
        "outputId": "f63d9b16-ed67-4ffd-f7bf-f45477b5a84c"
      },
      "source": [
        "createData(5, 6)\n",
        "x = {'pixel': pattern_data, 'flow': flow_data, 'tide': tide_data}\n",
        "df = pd.DataFrame(x)\n",
        "print(df)"
      ],
      "execution_count": 8,
      "outputs": [
        {
          "output_type": "stream",
          "name": "stdout",
          "text": [
            "Creating dataset on point: 5 , 6\n",
            "         pixel   flow      tide\n",
            "0     0.507416  29.31 -3.230000\n",
            "1     0.478374  30.34 -3.186667\n",
            "2     0.555165  30.34 -2.650000\n",
            "3     0.478374  30.34 -3.186667\n",
            "4     0.555165  30.34 -2.650000\n",
            "...        ...    ...       ...\n",
            "3355  0.684679  35.45  1.686667\n",
            "3356  0.956754  35.45  1.903333\n",
            "3357  0.684679  35.45  1.686667\n",
            "3358  0.956754  35.45  1.903333\n",
            "3359  1.624788  35.45  1.880000\n",
            "\n",
            "[3360 rows x 3 columns]\n"
          ]
        }
      ]
    },
    {
      "cell_type": "markdown",
      "metadata": {
        "id": "CgVm5QVZ9ziO"
      },
      "source": [
        "Part 2: Observe statistics and frequency of dataset."
      ]
    },
    {
      "cell_type": "code",
      "metadata": {
        "colab": {
          "base_uri": "https://localhost:8080/",
          "height": 487
        },
        "id": "t1ZITNQ28G78",
        "outputId": "ad2486cb-2e75-4629-fa18-d23d242309f9"
      },
      "source": [
        "plot_cols = ['pixel', 'flow', 'tide']\n",
        "plot_features = df[plot_cols]\n",
        "_ = plot_features.plot(subplots=True)\n",
        "\n",
        "plot_features = df[plot_cols][:80]\n",
        "_ = plot_features.plot(subplots=True)"
      ],
      "execution_count": 11,
      "outputs": [
        {
          "output_type": "display_data",
          "data": {
            "image/png": "[encoded data removed]",
            "text/plain": [
              "<Figure size 432x288 with 3 Axes>"
            ]
          },
          "metadata": {
            "needs_background": "light"
          }
        },
        {
          "output_type": "display_data",
          "data": {
            "image/png": "[encoded data removed]",
            "text/plain": [
              "<Figure size 432x288 with 3 Axes>"
            ]
          },
          "metadata": {
            "needs_background": "light"
          }
        }
      ]
    },
    {
      "cell_type": "code",
      "metadata": {
        "colab": {
          "base_uri": "https://localhost:8080/",
          "height": 142
        },
        "id": "RQ5731bv857q",
        "outputId": "118d96ea-c077-4b06-912f-2607d5b831ed"
      },
      "source": [
        "df.describe().transpose()"
      ],
      "execution_count": 12,
      "outputs": [
        {
          "output_type": "execute_result",
          "data": {
            "text/html": [
              "<div>\n",
              "<style scoped>\n",
              "    .dataframe tbody tr th:only-of-type {\n",
              "        vertical-align: middle;\n",
              "    }\n",
              "\n",
              "    .dataframe tbody tr th {\n",
              "        vertical-align: top;\n",
              "    }\n",
              "\n",
              "    .dataframe thead th {\n",
              "        text-align: right;\n",
              "    }\n",
              "</style>\n",
              "<table border=\"1\" class=\"dataframe\">\n",
              "  <thead>\n",
              "    <tr style=\"text-align: right;\">\n",
              "      <th></th>\n",
              "      <th>count</th>\n",
              "      <th>mean</th>\n",
              "      <th>std</th>\n",
              "      <th>min</th>\n",
              "      <th>25%</th>\n",
              "      <th>50%</th>\n",
              "      <th>75%</th>\n",
              "      <th>max</th>\n",
              "    </tr>\n",
              "  </thead>\n",
              "  <tbody>\n",
              "    <tr>\n",
              "      <th>pixel</th>\n",
              "      <td>3360.0</td>\n",
              "      <td>1.160091</td>\n",
              "      <td>0.626616</td>\n",
              "      <td>0.00</td>\n",
              "      <td>0.726032</td>\n",
              "      <td>1.041855</td>\n",
              "      <td>1.471410</td>\n",
              "      <td>3.928302</td>\n",
              "    </tr>\n",
              "    <tr>\n",
              "      <th>flow</th>\n",
              "      <td>3360.0</td>\n",
              "      <td>46.089810</td>\n",
              "      <td>38.501225</td>\n",
              "      <td>3.30</td>\n",
              "      <td>23.420000</td>\n",
              "      <td>34.660000</td>\n",
              "      <td>56.900000</td>\n",
              "      <td>393.040000</td>\n",
              "    </tr>\n",
              "    <tr>\n",
              "      <th>tide</th>\n",
              "      <td>3360.0</td>\n",
              "      <td>-0.720370</td>\n",
              "      <td>1.766859</td>\n",
              "      <td>-7.28</td>\n",
              "      <td>-2.156667</td>\n",
              "      <td>-0.720000</td>\n",
              "      <td>0.816667</td>\n",
              "      <td>3.393333</td>\n",
              "    </tr>\n",
              "  </tbody>\n",
              "</table>\n",
              "</div>"
            ],
            "text/plain": [
              "        count       mean        std  ...        50%        75%         max\n",
              "pixel  3360.0   1.160091   0.626616  ...   1.041855   1.471410    3.928302\n",
              "flow   3360.0  46.089810  38.501225  ...  34.660000  56.900000  393.040000\n",
              "tide   3360.0  -0.720370   1.766859  ...  -0.720000   0.816667    3.393333\n",
              "\n",
              "[3 rows x 8 columns]"
            ]
          },
          "metadata": {},
          "execution_count": 12
        }
      ]
    },
    {
      "cell_type": "markdown",
      "metadata": {
        "id": "wF89uA45_BO_"
      },
      "source": [
        "Part 3: Split the data (7:2:1 == 784:224:112)"
      ]
    },
    {
      "cell_type": "code",
      "metadata": {
        "colab": {
          "base_uri": "https://localhost:8080/"
        },
        "id": "pM2wf94S-_2T",
        "outputId": "679d3465-f92c-431e-de7f-532a88122dd5"
      },
      "source": [
        "column_indices = {name: i for i, name in enumerate(df.columns)}\n",
        "\n",
        "n = len(df)\n",
        "train_df = df[0:int(n*0.7)]\n",
        "val_df = df[int(n*0.7):int(n*0.9)]\n",
        "test_df = df[int(n*0.9):]\n",
        "\n",
        "num_features = df.shape[1]\n",
        "print(train_df)\n",
        "print(val_df)\n",
        "print(test_df)"
      ],
      "execution_count": 23,
      "outputs": [
        {
          "output_type": "stream",
          "name": "stdout",
          "text": [
            "         pixel   flow      tide\n",
            "0     0.507416  29.31 -3.230000\n",
            "1     0.478374  30.34 -3.186667\n",
            "2     0.555165  30.34 -2.650000\n",
            "3     0.478374  30.34 -3.186667\n",
            "4     0.555165  30.34 -2.650000\n",
            "...        ...    ...       ...\n",
            "2347  1.007324  28.09 -1.580000\n",
            "2348  1.241010  28.09 -0.896667\n",
            "2349  1.522529  28.09 -1.030000\n",
            "2350  1.238465  28.09 -1.876667\n",
            "2351  1.308782  26.65 -1.923333\n",
            "\n",
            "[2352 rows x 3 columns]\n",
            "         pixel   flow      tide\n",
            "2352  1.238465  28.09 -1.876667\n",
            "2353  1.308782  26.65 -1.923333\n",
            "2354  1.352989  26.65 -1.456667\n",
            "2355  0.731646  15.84  0.026667\n",
            "2356  0.615044  15.84 -1.123333\n",
            "...        ...    ...       ...\n",
            "3019  0.702669  40.52  1.246667\n",
            "3020  0.629381  39.46  0.613333\n",
            "3021  0.702669  40.52  1.246667\n",
            "3022  0.629381  39.46  0.613333\n",
            "3023  1.004864  39.46  0.093333\n",
            "\n",
            "[672 rows x 3 columns]\n",
            "         pixel   flow      tide\n",
            "3024  0.629381  39.46  0.613333\n",
            "3025  1.004864  39.46  0.093333\n",
            "3026  0.803503  39.46 -0.716667\n",
            "3027  1.203791  35.33 -0.246667\n",
            "3028  0.832991  34.37  0.073333\n",
            "...        ...    ...       ...\n",
            "3355  0.684679  35.45  1.686667\n",
            "3356  0.956754  35.45  1.903333\n",
            "3357  0.684679  35.45  1.686667\n",
            "3358  0.956754  35.45  1.903333\n",
            "3359  1.624788  35.45  1.880000\n",
            "\n",
            "[336 rows x 3 columns]\n"
          ]
        }
      ]
    },
    {
      "cell_type": "code",
      "metadata": {
        "id": "Z5SzYPnK_wqk"
      },
      "source": [
        ""
      ],
      "execution_count": null,
      "outputs": []
    }
  ]
}